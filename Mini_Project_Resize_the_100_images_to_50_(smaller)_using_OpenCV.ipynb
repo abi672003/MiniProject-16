{
  "nbformat": 4,
  "nbformat_minor": 0,
  "metadata": {
    "colab": {
      "provenance": [],
      "authorship_tag": "ABX9TyPh1t2fqMJ+C3hQbz/7hU0Z",
      "include_colab_link": true
    },
    "kernelspec": {
      "name": "python3",
      "display_name": "Python 3"
    },
    "language_info": {
      "name": "python"
    }
  },
  "cells": [
    {
      "cell_type": "markdown",
      "metadata": {
        "id": "view-in-github",
        "colab_type": "text"
      },
      "source": [
        "<a href=\"https://colab.research.google.com/github/abi672003/MiniProject-16/blob/main/Mini_Project_Resize_the_100_images_to_50_(smaller)_using_OpenCV.ipynb\" target=\"_parent\"><img src=\"https://colab.research.google.com/assets/colab-badge.svg\" alt=\"Open In Colab\"/></a>"
      ]
    },
    {
      "cell_type": "code",
      "execution_count": null,
      "metadata": {
        "colab": {
          "base_uri": "https://localhost:8080/"
        },
        "id": "M825ojB5sdMY",
        "outputId": "1fa4c78c-48a1-4635-dee0-f56801b899c6"
      },
      "outputs": [
        {
          "output_type": "stream",
          "name": "stdout",
          "text": [
            "Requirement already satisfied: opencv-python in /usr/local/lib/python3.10/dist-packages (4.7.0.72)\n",
            "Requirement already satisfied: numpy>=1.21.2 in /usr/local/lib/python3.10/dist-packages (from opencv-python) (1.22.4)\n"
          ]
        }
      ],
      "source": [
        "pip install opencv-python"
      ]
    },
    {
      "cell_type": "code",
      "source": [
        "import cv2\n",
        "import os\n",
        "\n",
        "# Function to resize image to 50%\n",
        "def resize_image(image_path, output_path):\n",
        "    # Read the image\n",
        "    image = cv2.imread(image_path)\n",
        "\n",
        "    # Get the original image dimensions\n",
        "    height, width = image.shape[:2]\n",
        "\n",
        "    # Calculate the new dimensions (50% of the original size)\n",
        "    new_height = int(height * 0.5)\n",
        "    new_width = int(width * 0.5)\n",
        "\n",
        "    # Resize the image using linear interpolation\n",
        "    resized_image = cv2.resize(image, (new_width, new_height), interpolation=cv2.INTER_LINEAR)\n",
        "\n",
        "    # Save the resized image\n",
        "    cv2.imwrite(output_path, resized_image)\n",
        "\n",
        "# Path to the directory containing the images\n",
        "image_directory = 'path/to/images/'\n",
        "\n",
        "# Path to the directory where you want to save the resized images\n",
        "output_directory = 'path/to/output/'\n",
        "\n",
        "# Get a list of all image files in the directory\n",
        "image_files = os.listdir(image_directory)\n",
        "\n",
        "# Loop through each image file\n",
        "for image_file in image_files:\n",
        "    # Create the full path for the input image\n",
        "    input_path = os.path.join(image_directory, image_file)\n",
        "\n",
        "    # Create the full path for the output image\n",
        "    output_path = os.path.join(output_directory, image_file)\n",
        "\n",
        "    # Resize the image to 50%\n",
        "    resize_image(input_path, output_path)\n"
      ],
      "metadata": {
        "id": "BNzV7OClsfAR"
      },
      "execution_count": null,
      "outputs": []
    }
  ]
}